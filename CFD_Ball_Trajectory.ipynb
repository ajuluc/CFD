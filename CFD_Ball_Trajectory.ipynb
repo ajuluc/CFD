{
 "cells": [
  {
   "cell_type": "code",
   "execution_count": 1,
   "metadata": {},
   "outputs": [
    {
     "name": "stdout",
     "output_type": "stream",
     "text": [
      "The python version running is 3.7.5\n"
     ]
    }
   ],
   "source": [
    "import sys, os, platform\n",
    "import numpy as np\n",
    "import scipy as sc \n",
    "from matplotlib import pyplot as plt\n",
    "%matplotlib inline\n",
    "print(\"The python version running is {}\".format(platform.python_version()))"
   ]
  },
  {
   "cell_type": "code",
   "execution_count": null,
   "metadata": {},
   "outputs": [],
   "source": [
    "def initial_fall(x0,y0,U,theta,n):\n",
    "    ui = U*np.cos(theta)\n",
    "    vi = U*np.sin(theta)\n",
    "    # n is the time intervals\n",
    "    \"\"\"\"\n",
    "    Assumption here is that for the horizontal velocity component acceleration is 0 since gravity \n",
    "    only occurs in the vertical direction. \n",
    "    The vertical velocity component, acceleration is that of acceleration due to gravity g = 9.81m/s^2\n",
    "    a = 0 for the horizontal component and a = g = 9.81m/s^2\n",
    "    \"\"\"   \n",
    "    g = 9.81 \n",
    "    COR = 0.8\n",
    "    \n",
    "    \n",
    "    global xTraj, yTraj, vel_Impact, Impact_angle\n",
    "    \n",
    "    #At impact with ground the final velocity is 0 \n",
    "    \n",
    "    t_Impact = vi/g + np.sqrt((2*vi)**2 + 8*g*y0)/(2*g) #the time to reach the ground \n",
    "    \n",
    "    \n",
    "    \n",
    "    \n",
    "    tTraj = np.linspace(0,t_Impact,n) #times of the projectile trajectory from t=0 to t @ impact with ground\n",
    "\n",
    "    yTraj = y0+ vi*tTraj - 0.5*g*tTraj**2 #vertical trajectory of the ball\n",
    "\n",
    "    xTraj = x0 + ui*tTraj  #final horizontal velocity remains unchanged from initial \n",
    "\n",
    "    vf = vi - g*t_Impact #final vertical velocity when it hits the ground \n",
    "\n",
    "    uf = ui #horizontal velocity remains unchanged \n",
    "\n",
    "    vel_Impact = COR * np.sqrt(uf**2 + vf**2) #velocity magnitude at impact with the ground\n",
    "\n",
    "    Impact_angle = np.arctan(vf/uf) #angle of impact based on the velocity magnitude\n",
    "\n",
    "\n",
    "    plt.plot(xTraj, yTraj, '-')\n",
    "        \n",
    "        \n",
    "#    \n",
    "        \n",
    "\n",
    "    \n",
    "    return (\"\"\"\n",
    "            The horizontal trajectory of the ball is {}, vertical trajectory is {}, \n",
    "            time trajectory is {}, time at impact is {}, \n",
    "            velocity at impact is {}, angle at impact is {}\"\"\".format(\n",
    "            xTraj, yTraj,tTraj,t_Impact,vel_Impact,Impact_angle))\n"
   ]
  },
  {
   "cell_type": "code",
   "execution_count": null,
   "metadata": {},
   "outputs": [],
   "source": [
    "def after_fall(x0,y0,U,theta,n):\n",
    "    \n",
    "    ui = U*np.cos(theta)\n",
    "    vi = U*np.sin(theta)\n",
    "    \n",
    "    # n is the time intervals\n",
    "    \"\"\"\"\n",
    "    Assumption here is that for the horizontal velocity component acceleration is 0 since gravity \n",
    "    only occurs in the vertical direction. \n",
    "    The vertical velocity component, acceleration is that of acceleration due to gravity g = 9.81m/s^2\n",
    "    a = 0 for the horizontal component and a = g = 9.81m/s^2\n",
    "    \"\"\"   \n",
    "    g = 9.81 \n",
    "    COR = 0.8\n",
    "    \n",
    "    #At impact with ground the final velocity is 0 \n",
    "    \n",
    "    \n",
    "    global xTraj, yTraj, vel_Impact, Impact_angle\n",
    "    \n",
    "    t_Impact = vi/g + np.sqrt((2*vi)**2 + 8*g*y0)/(2*g) #the time to reach the ground \n",
    "    \n",
    "    \n",
    "    \n",
    "    \n",
    "    tTraj = np.linspace(0,t_Impact,n) #times of the projectile trajectory from t=0 to t @ impact with ground\n",
    "\n",
    "    yTraj = y0+ vi*tTraj - 0.5*g*tTraj**2 #vertical trajectory of the ball\n",
    "\n",
    "    xTraj = x0 + ui*tTraj  #final horizontal velocity remains unchanged from initial \n",
    "\n",
    "    vf = vi - g*t_Impact #final vertical velocity when it hits the ground \n",
    "\n",
    "    uf = ui #horizontal velocity remains unchanged \n",
    "\n",
    "    vel_Impact = COR * np.sqrt(uf**2 + vf**2) #velocity magnitude at impact with the ground\n",
    "\n",
    "    Impact_angle = -1 * np.arctan(vf/uf) #angle of impact based on the velocity magnitude\n",
    "\n",
    "\n",
    "    plt.plot(xTraj, yTraj, '-', label='bounce {}'.format(j))\n",
    "\n",
    "    \n",
    "    return (\"\"\"\n",
    "            The horizontal trajectory of the ball is {}, vertical trajectory is {}, \n",
    "            time trajectory is {}, time at impact is {}, \n",
    "            velocity at impact is {}, angle at impact is {}\n",
    "            \"\"\".format(\n",
    "            xTraj, yTraj,tTraj,t_Impact,vel_Impact,Impact_angle))\n",
    "\n"
   ]
  },
  {
   "cell_type": "code",
   "execution_count": null,
   "metadata": {},
   "outputs": [],
   "source": [
    "initial_fall(1,1,1,np.pi/4,n=20)\n",
    "xTraj"
   ]
  },
  {
   "cell_type": "code",
   "execution_count": null,
   "metadata": {},
   "outputs": [],
   "source": [
    "yTraj"
   ]
  },
  {
   "cell_type": "code",
   "execution_count": null,
   "metadata": {},
   "outputs": [],
   "source": [
    "initial_fall(1,1,1,np.pi/4,n=20)\n",
    "\n",
    "for j in range(5):\n",
    "    after_fall(x0=xTraj[-1], y0=yTraj[-1], U=vel_Impact, theta=Impact_angle, n=40)\n",
    "\n",
    "plt.ylabel('$Ball\\ Trajectory$')\n",
    "plt.xlabel('$Time\\ instance$')\n",
    "plt.legend(loc=\"upper right\")\n",
    "plt.show()\n"
   ]
  },
  {
   "cell_type": "code",
   "execution_count": null,
   "metadata": {},
   "outputs": [],
   "source": [
    "\n",
    "initial_fall(x0=1,y0=2,U=2,theta=-np.pi/4,n=20)\n",
    "ynew=2\n",
    "while yTraj[-1] < 0.1*ynew :\n",
    "    after_fall(x0=xTraj[-1], y0=yTraj[-1], U=vel_Impact, theta=Impact_angle, n=40)\n",
    "    \n",
    "plt.ylabel('$Ball\\ Trajectory$')\n",
    "plt.xlabel('$Time\\ instance$')\n",
    "# plt.legend()\n",
    "plt.show()"
   ]
  },
  {
   "cell_type": "code",
   "execution_count": 2,
   "metadata": {},
   "outputs": [],
   "source": [
    "ack = np.linspace(1,50,num=50)"
   ]
  },
  {
   "cell_type": "code",
   "execution_count": null,
   "metadata": {},
   "outputs": [],
   "source": [
    "ack"
   ]
  },
  {
   "cell_type": "code",
   "execution_count": null,
   "metadata": {},
   "outputs": [],
   "source": [
    "cwnd = 1"
   ]
  },
  {
   "cell_type": "code",
   "execution_count": null,
   "metadata": {},
   "outputs": [],
   "source": [
    "new_ack = [cwnd if val == ack[0] else cwnd += 1/cwnd for val in range(20)]"
   ]
  },
  {
   "cell_type": "code",
   "execution_count": null,
   "metadata": {},
   "outputs": [],
   "source": [
    "ack[19]"
   ]
  },
  {
   "cell_type": "code",
   "execution_count": null,
   "metadata": {},
   "outputs": [],
   "source": [
    "type(cwnd)"
   ]
  },
  {
   "cell_type": "code",
   "execution_count": 3,
   "metadata": {},
   "outputs": [],
   "source": [
    "new_val = []\n",
    "cwnd = np.ones_like(ack)\n",
    "\n",
    "\n",
    "for index, value in enumerate(ack):\n",
    "    if (value == ack[0] and ack[8]):\n",
    "        cwnd[index] == cwnd[index-1]\n",
    "        \n",
    "    elif (value == ack[24] and ack[29]):\n",
    "        cwnd[index] == cwnd[index-1]\n",
    "        \n",
    "    elif (value == ack[37] and ack[49]):\n",
    "        cwnd[index] == cwnd[index-1]\n",
    "        \n",
    "    else:\n",
    "        cwnd[index] += 1/cwnd[index-1]\n",
    "    new_val.append(cwnd)\n"
   ]
  },
  {
   "cell_type": "code",
   "execution_count": 4,
   "metadata": {
    "scrolled": true
   },
   "outputs": [
    {
     "data": {
      "text/plain": [
       "array([1.        , 2.        , 1.5       , 1.66666667, 1.6       ,\n",
       "       1.625     , 1.61538462, 1.61904762, 1.61764706, 1.61818182,\n",
       "       1.61797753, 1.61805556, 1.61802575, 1.61803714, 1.61803279,\n",
       "       1.61803445, 1.61803381, 1.61803406, 1.61803396, 1.618034  ,\n",
       "       1.61803399, 1.61803399, 1.61803399, 1.61803399, 1.        ,\n",
       "       2.        , 1.5       , 1.66666667, 1.6       , 1.625     ,\n",
       "       1.61538462, 1.61904762, 1.61764706, 1.61818182, 1.61797753,\n",
       "       1.61805556, 1.61802575, 1.        , 2.        , 1.5       ,\n",
       "       1.66666667, 1.6       , 1.625     , 1.61538462, 1.61904762,\n",
       "       1.61764706, 1.61818182, 1.61797753, 1.61805556, 1.61802575])"
      ]
     },
     "execution_count": 4,
     "metadata": {},
     "output_type": "execute_result"
    }
   ],
   "source": [
    "new_val[0]"
   ]
  },
  {
   "cell_type": "code",
   "execution_count": 6,
   "metadata": {},
   "outputs": [
    {
     "data": {
      "image/png": "[encoded data removed]",
      "text/plain": [
       "<Figure size 1080x720 with 1 Axes>"
      ]
     },
     "metadata": {
      "needs_background": "light"
     },
     "output_type": "display_data"
    }
   ],
   "source": [
    "plt.plot(ack, new_val[0], 'r-o')\n",
    "plt.xlabel(r'$time$')\n",
    "plt.ylabel(r'$cwnd$')\n",
    "plt.title(r'TCP Congestion Control')\n",
    "# plt.legend(loc='best') \n",
    "plt.rcParams['figure.figsize'] = [15,10]"
   ]
  },
  {
   "cell_type": "code",
   "execution_count": null,
   "metadata": {},
   "outputs": [],
   "source": [
    "t0 = 0 \n",
    "x0 = 0\n",
    "\n",
    "\n",
    "size = [33, 17, 9, 5]\n",
    "\n",
    "\n",
    "for i in size:\n",
    "    t = np.linspace(t0,np.pi,i)\n",
    "    x = np.zeros_like(t)\n",
    "    \n",
    "    dt = np.pi/(i-1)\n",
    "\n",
    "    for j,k in enumerate(t):\n",
    "        x[j] = x[j-1] + np.sin(k)*dt\n",
    "        t1 = j+dt\n",
    "        x0 = x[-1]\n",
    "    \n",
    "    plt.plot(t, x,'-',label='step size $ t = \\pi / {}$'.format(j)) \n",
    "\n",
    "new_t = np.linspace(0,np.pi,129)\n",
    "analytical_func = 1 - np.cos(new_t)\n",
    "\n",
    "plt.plot(new_t, analytical_func, '-', label='Analytical solution $x(t) = 1 - cos(t)$')\n",
    "\n",
    "plt.xlabel(r'$t$')\n",
    "plt.ylabel(r'$\\frac{dx}{dt}=sin(t)$')\n",
    "plt.title(r'Eulers Method')\n",
    "plt.legend(loc='best') \n",
    "plt.rcParams['figure.figsize'] = [15,10]\n",
    "plt.show()"
   ]
  },
  {
   "cell_type": "code",
   "execution_count": null,
   "metadata": {},
   "outputs": [],
   "source": []
  },
  {
   "cell_type": "code",
   "execution_count": null,
   "metadata": {},
   "outputs": [],
   "source": []
  }
 ],
 "metadata": {
  "kernelspec": {
   "display_name": "Python 3.7.5 64-bit ('rmg_py3': conda)",
   "language": "python",
   "name": "python37564bitrmgpy3conda989e3b3dd792456f89ff67e2568596b4"
  },
  "language_info": {
   "codemirror_mode": {
    "name": "ipython",
    "version": 3
   },
   "file_extension": ".py",
   "mimetype": "text/x-python",
   "name": "python",
   "nbconvert_exporter": "python",
   "pygments_lexer": "ipython3",
   "version": "3.7.5"
  }
 },
 "nbformat": 4,
 "nbformat_minor": 2
}
